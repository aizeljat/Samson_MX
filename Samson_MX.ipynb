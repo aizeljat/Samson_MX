{
 "cells": [
  {
   "cell_type": "code",
   "execution_count": 12,
   "id": "b93c236b",
   "metadata": {},
   "outputs": [
    {
     "name": "stdout",
     "output_type": "stream",
     "text": [
      "Rationale: The hypothesis test is a two-sample independent t-test, aiming to compare the mean time spent on cell phones by male and female college students per week.\n"
     ]
    }
   ],
   "source": [
    "# 1. Formulate and present the rationale for a hypothesis test\n",
    "\n",
    "import numpy as np\n",
    "import pandas as pd\n",
    "from scipy import stats\n",
    "\n",
    "# data\n",
    "MALE = np.array([12,4,11,13,11,7,9,10,10,7,7,12,6,9,15,10,11,12,7,8,8,9,11,10,9,10,9,9,7,9,11,7,10,10,11,9,12,12,8,13,9,10,8,11,10,13,13,9,10,13])\n",
    "FEMALE = np.array([11,9,7,10,9,10,10,7,9,10,11,8,9,6,11,10,7,9,12,14,11,12,12,8,12,12,9,10,11,7,12,7,9,8,11,10,8,13,8,10,9,9,9,11,9,9,8,9,12,11])\n",
    "\n",
    "# Perform independent two-sample t-test\n",
    "t_stat, p_value = stats.ttest_ind(MALE, FEMALE)\n",
    "\n",
    "print(f\"Rationale: The hypothesis test is a two-sample independent t-test, aiming to compare the mean time spent on cell phones by male and female college students per week.\")\n"
   ]
  },
  {
   "cell_type": "code",
   "execution_count": 13,
   "id": "967667b5",
   "metadata": {},
   "outputs": [
    {
     "name": "stdout",
     "output_type": "stream",
     "text": [
      "\n",
      "Hypothesis Testing Conclusion:\n",
      "T-statistic: 0.30394907866566184\n",
      "P-value: 0.7618111039906375\n",
      "Fail to reject the null hypothesis. There is no significant difference in mean time spent on cell phones between male and female students.\n"
     ]
    }
   ],
   "source": [
    "# 2. Hypothesis testing conclusion\n",
    "\n",
    "alpha = 0.05\n",
    "print(f\"\\nHypothesis Testing Conclusion:\")\n",
    "print(f\"T-statistic: {t_stat}\")\n",
    "print(f\"P-value: {p_value}\")\n",
    "\n",
    "if p_value < alpha:\n",
    "    print(\"Reject the null hypothesis. There is evidence of a significant difference in mean time spent on cell phones between male and female students.\")\n",
    "else:\n",
    "    print(\"Fail to reject the null hypothesis. There is no significant difference in mean time spent on cell phones between male and female students.\")\n"
   ]
  },
  {
   "cell_type": "code",
   "execution_count": 4,
   "id": "b02194da",
   "metadata": {},
   "outputs": [
    {
     "name": "stdout",
     "output_type": "stream",
     "text": [
      "\n",
      "Descriptive Statistics for Male:\n",
      "count    50.000000\n",
      "mean      9.820000\n",
      "std       2.154161\n",
      "min       4.000000\n",
      "25%       9.000000\n",
      "50%      10.000000\n",
      "75%      11.000000\n",
      "max      15.000000\n",
      "dtype: float64\n",
      "\n",
      "Descriptive Statistics for Female:\n",
      "count    50.000000\n",
      "mean      9.700000\n",
      "std       1.775686\n",
      "min       6.000000\n",
      "25%       9.000000\n",
      "50%       9.500000\n",
      "75%      11.000000\n",
      "max      14.000000\n",
      "dtype: float64\n"
     ]
    }
   ],
   "source": [
    "# 3. Descriptive statistical summaries\n",
    "male_stats = pd.Series(MALE).describe()\n",
    "female_stats = pd.Series(FEMALE).describe()\n",
    "\n",
    "print(f\"\\nDescriptive Statistics for Male:\")\n",
    "print(male_stats)\n",
    "\n",
    "print(f\"\\nDescriptive Statistics for Female:\")\n",
    "print(female_stats)\n"
   ]
  },
  {
   "cell_type": "code",
   "execution_count": 5,
   "id": "7cefed5c",
   "metadata": {},
   "outputs": [
    {
     "name": "stdout",
     "output_type": "stream",
     "text": [
      "\n",
      "95% Confidence Interval for Male Mean: (9.207794314064703, 10.432205685935298)\n",
      "95% Confidence Interval for Female Mean: (9.19535558679254, 10.20464441320746)\n",
      "95% Confidence Interval for Difference in Means: (-0.6555993445958961, 0.8955993445958981)\n"
     ]
    }
   ],
   "source": [
    "# 4. 95% Confidence intervals\n",
    "conf_interval_male = stats.t.interval(0.95, len(MALE)-1, loc=np.mean(MALE), scale=stats.sem(MALE))\n",
    "conf_interval_female = stats.t.interval(0.95, len(FEMALE)-1, loc=np.mean(FEMALE), scale=stats.sem(FEMALE))\n",
    "conf_interval_diff = stats.t.interval(0.95, len(MALE)+len(FEMALE)-2, \n",
    "                                      loc=np.mean(MALE) - np.mean(FEMALE), \n",
    "                                      scale=np.sqrt((np.var(MALE)/len(MALE)) + (np.var(FEMALE)/len(FEMALE))))\n",
    "\n",
    "print(f\"\\n95% Confidence Interval for Male Mean: {conf_interval_male}\")\n",
    "print(f\"95% Confidence Interval for Female Mean: {conf_interval_female}\")\n",
    "print(f\"95% Confidence Interval for Difference in Means: {conf_interval_diff}\")\n"
   ]
  },
  {
   "cell_type": "code",
   "execution_count": 14,
   "id": "705bf98c",
   "metadata": {},
   "outputs": [
    {
     "name": "stdout",
     "output_type": "stream",
     "text": [
      "\n",
      "Discussion:\n",
      "Consideration for larger sample sizes and more testing depends on the specific goals and desired level of confidence.\n"
     ]
    }
   ],
   "source": [
    "# 5. Discuss the need for larger sample sizes\n",
    "\n",
    "print(\"\\nDiscussion:\")\n",
    "print(\"Consideration for larger sample sizes and more testing depends on the specific goals and desired level of confidence.\")\n"
   ]
  },
  {
   "cell_type": "code",
   "execution_count": 7,
   "id": "414e3b61",
   "metadata": {},
   "outputs": [
    {
     "name": "stdout",
     "output_type": "stream",
     "text": [
      "\n",
      "Assumptions Testing:\n",
      "Shapiro-Wilk test for normality (MALE): p-value = 0.35399243235588074\n",
      "Shapiro-Wilk test for normality (FEMALE): p-value = 0.12919674813747406\n",
      "Levene's test for homogeneity of variances: p-value = 0.40671633986363454\n"
     ]
    }
   ],
   "source": [
    "# 6. Report\n",
    "# Normality test (Shapiro-Wilk)\n",
    "stat_male, p_male = stats.shapiro(MALE)\n",
    "stat_female, p_female = stats.shapiro(FEMALE)\n",
    "\n",
    "# Homogeneity of variances (Levene's test)\n",
    "stat_levene, p_levene = stats.levene(MALE, FEMALE)\n",
    "\n",
    "print(\"\\nAssumptions Testing:\")\n",
    "print(f\"Shapiro-Wilk test for normality (MALE): p-value = {p_male}\")\n",
    "print(f\"Shapiro-Wilk test for normality (FEMALE): p-value = {p_female}\")\n",
    "print(f\"Levene's test for homogeneity of variances: p-value = {p_levene}\")\n"
   ]
  },
  {
   "cell_type": "code",
   "execution_count": 22,
   "id": "c6d06e38",
   "metadata": {},
   "outputs": [
    {
     "data": {
      "image/png": "[encoded data removed]",
      "text/plain": [
       "<Figure size 640x480 with 1 Axes>"
      ]
     },
     "metadata": {},
     "output_type": "display_data"
    }
   ],
   "source": [
    "import seaborn as sns\n",
    "import matplotlib.pyplot as plt\n",
    "\n",
    "# Box plots for visualizing distribution and variability\n",
    "sns.boxplot(x=\"Gender\", y=\"Hours\", data=pd.DataFrame({\"Gender\": [\"Male\"] * len(MALE) + [\"Female\"] * len(FEMALE), \"Hours\": np.concatenate([MALE, FEMALE])}))\n",
    "plt.show()\n"
   ]
  },
  {
   "cell_type": "code",
   "execution_count": 23,
   "id": "00a05833",
   "metadata": {},
   "outputs": [
    {
     "name": "stdout",
     "output_type": "stream",
     "text": [
      "\n",
      "Two-Sample Independent T-Test:\n",
      "\n",
      "T-statistic: 0.30394907866566184\n",
      "P-value: 0.7618111039906375\n"
     ]
    }
   ],
   "source": [
    "# Perform two-sample independent t-test\n",
    "t_stat, p_value = stats.ttest_ind(MALE, FEMALE)\n",
    "\n",
    "print(f\"\\nTwo-Sample Independent T-Test:\")\n",
    "print(f\"\\nT-statistic: {t_stat}\")\n",
    "print(f\"P-value: {p_value}\")\n"
   ]
  },
  {
   "cell_type": "code",
   "execution_count": 24,
   "id": "e98eb930",
   "metadata": {},
   "outputs": [
    {
     "name": "stdout",
     "output_type": "stream",
     "text": [
      "\n",
      "Assumptions Testing:\n",
      "\n",
      "Assumptions met: Both groups follow a normal distribution.\n",
      "Assumption met: Variances are homogenous.\n",
      "\n",
      "Hypothesis Testing Conclusion:\n",
      "\n",
      "Fail to reject the null hypothesis. There is no significant difference in mean time spent on cell phones between male and female students.\n"
     ]
    }
   ],
   "source": [
    "# Report and Recommendations\n",
    "alpha = 0.05\n",
    "\n",
    "print(\"\\nAssumptions Testing:\")\n",
    "if p_male > alpha and p_female > alpha:\n",
    "    print(\"\\nAssumptions met: Both groups follow a normal distribution.\")\n",
    "else:\n",
    "    print(\"Assumptions not fully met: Consider caution in interpreting results.\")\n",
    "\n",
    "if p_levene > alpha:\n",
    "    print(\"Assumption met: Variances are homogenous.\")\n",
    "else:\n",
    "    print(\"Assumption not met: Consider alternative methods or interpret cautiously.\")\n",
    "\n",
    "print(\"\\nHypothesis Testing Conclusion:\")\n",
    "if p_value < alpha:\n",
    "    print(\"\\nReject the null hypothesis. There is evidence of a significant difference in mean time spent on cell phones between male and female students.\")\n",
    "else:\n",
    "    print(\"\\nFail to reject the null hypothesis. There is no significant difference in mean time spent on cell phones between male and female students.\")\n"
   ]
  }
 ],
 "metadata": {
  "kernelspec": {
   "display_name": "Python 3 (ipykernel)",
   "language": "python",
   "name": "python3"
  },
  "language_info": {
   "codemirror_mode": {
    "name": "ipython",
    "version": 3
   },
   "file_extension": ".py",
   "mimetype": "text/x-python",
   "name": "python",
   "nbconvert_exporter": "python",
   "pygments_lexer": "ipython3",
   "version": "3.11.4"
  }
 },
 "nbformat": 4,
 "nbformat_minor": 5
}
